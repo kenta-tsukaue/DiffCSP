{
 "cells": [
  {
   "cell_type": "code",
   "execution_count": 2,
   "metadata": {},
   "outputs": [],
   "source": [
    "import os\n",
    "import numpy as np\n",
    "import torch\n",
    "from pymatgen.core.structure import Structure\n",
    "from pymatgen.core.lattice import Lattice\n",
    "from pymatgen.vis.structure_vtk import StructureVis  # VTKベースの可視化\n",
    "\n",
    "def visualize_structure(structure):\n",
    "    \"\"\"結晶構造を可視化するヘルパー関数\"\"\"\n",
    "    vis = StructureVis()\n",
    "    vis.set_structure(structure)\n",
    "    vis.show()"
   ]
  },
  {
   "cell_type": "code",
   "execution_count": 3,
   "metadata": {},
   "outputs": [
    {
     "ename": "",
     "evalue": "",
     "output_type": "error",
     "traceback": [
      "\u001b[1;31mThe Kernel crashed while executing code in the current cell or a previous cell. \n",
      "\u001b[1;31mPlease review the code in the cell(s) to identify a possible cause of the failure. \n",
      "\u001b[1;31mClick <a href='https://aka.ms/vscodeJupyterKernelCrash'>here</a> for more info. \n",
      "\u001b[1;31mView Jupyter <a href='command:jupyter.viewOutput'>log</a> for further details."
     ]
    },
    {
     "ename": "",
     "evalue": "",
     "output_type": "error",
     "traceback": [
      "\u001b[1;31mCanceled future for execute_request message before replies were done"
     ]
    },
    {
     "ename": "",
     "evalue": "",
     "output_type": "error",
     "traceback": [
      "\u001b[1;31mCanceled future for execute_request message before replies were done. \n",
      "\u001b[1;31mView Jupyter <a href='command:jupyter.viewOutput'>log</a> for further details."
     ]
    }
   ],
   "source": [
    "# データの呼び出し、データをCPUにマッピング\n",
    "loaded_batch = torch.load('/home/tsukaue/code/DiffCSP/utils/batch.pt', map_location=torch.device('cpu'))\n",
    "# 読み込んだデータを使用\n",
    "print(loaded_batch)\n",
    "\n",
    "num_crystals = loaded_batch['num_atoms'].size(0)  # バッチサイズ\n",
    "\n",
    "# バッチ内の全ての結晶に対してループ\n",
    "for i in range(num_crystals):\n",
    "    if i != 0:\n",
    "        continue\n",
    "    start_index = sum(loaded_batch['num_atoms'][:i])  # i番目の結晶の開始インデックス\n",
    "    end_index = start_index + loaded_batch['num_atoms'][i]  # i番目の結晶の終了インデックス\n",
    "\n",
    "    # i番目の結晶のデータを抽出\n",
    "    first_frac_coords = loaded_batch['frac_coords'][start_index:end_index]\n",
    "    first_atom_types = loaded_batch['atom_types'][start_index:end_index]\n",
    "    first_lengths = loaded_batch['lengths'][i]\n",
    "    first_angles = loaded_batch['angles'][i]\n",
    "\n",
    "    # Latticeオブジェクトを生成（格子パラメータから）\n",
    "    lattice = Lattice.from_parameters(first_lengths[0], first_lengths[1], first_lengths[2],\n",
    "                                        first_angles[0], first_angles[1], first_angles[2])\n",
    "\n",
    "    # pymatgenのStructureオブジェクトを作成\n",
    "    structure = Structure(lattice, first_atom_types, first_frac_coords)\n",
    "\n",
    "    # 結晶構造を可視化\n",
    "    visualize_structure(structure)  # 可視化関数を呼び出し"
   ]
  }
 ],
 "metadata": {
  "language_info": {
   "name": "python"
  }
 },
 "nbformat": 4,
 "nbformat_minor": 2
}
